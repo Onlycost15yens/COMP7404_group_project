{
 "cells": [
  {
   "cell_type": "code",
   "execution_count": 1,
   "metadata": {},
   "outputs": [],
   "source": [
    "import numpy as np\n",
    "from scipy.linalg import eigh"
   ]
  },
  {
   "cell_type": "code",
   "execution_count": 3,
   "metadata": {},
   "outputs": [],
   "source": [
    "def single_view_graph_learning(X, c, beta=1.0, max_iter=100):\n",
    "    '''\n",
    "    X: 单视图数据，维度为 (样本数n x 特征维度d)\n",
    "    c: 聚类簇数\n",
    "    beta: 正则化参数\n",
    "    '''\n",
    "    n = X.shape[0]\n",
    "\n",
    "    # 初始化S矩阵\n",
    "    S = np.zeros((n, n))\n",
    "\n",
    "    # 初始化Q矩阵，可以用数据的前c个特征向量初始化\n",
    "    Q = np.linalg.qr(np.random.rand(n, c))[0]\n",
    "\n",
    "    for iter in range(max_iter):\n",
    "        # Step 1: 更新S，固定Q\n",
    "        for j in range(n):\n",
    "            q_diff = np.linalg.norm(Q - Q[j, :], axis=1)**2\n",
    "            s_j = (-q_diff / (2*beta))\n",
    "            s_j = np.exp(s_j - np.max(s_j))  # 防止数值溢出\n",
    "            s_j /= np.sum(s_j)\n",
    "            S[:, j] = s_j\n",
    "\n",
    "        # Step 2: 更新Q，固定S\n",
    "        S_sym = (S + S.T) / 2\n",
    "        D = np.diag(np.sum(S_sym, axis=1))\n",
    "        L = D - S_sym\n",
    "\n",
    "        eigvals, eigvecs = eigh(L, subset_by_index=[0, c-1])\n",
    "        Q = eigvecs\n",
    "\n",
    "        # 检查连通分量个数是否达到聚类数c\n",
    "        eigen_gap = np.sum(eigvals[:c])\n",
    "        if eigen_gap < 1e-10:\n",
    "            break\n",
    "\n",
    "    return S"
   ]
  }
 ],
 "metadata": {
  "kernelspec": {
   "display_name": "base",
   "language": "python",
   "name": "python3"
  },
  "language_info": {
   "codemirror_mode": {
    "name": "ipython",
    "version": 3
   },
   "file_extension": ".py",
   "mimetype": "text/x-python",
   "name": "python",
   "nbconvert_exporter": "python",
   "pygments_lexer": "ipython3",
   "version": "3.12.4"
  }
 },
 "nbformat": 4,
 "nbformat_minor": 2
}
